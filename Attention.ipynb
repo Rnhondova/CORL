{
  "nbformat": 4,
  "nbformat_minor": 0,
  "metadata": {
    "colab": {
      "name": "Attention.ipynb",
      "provenance": [],
      "collapsed_sections": [],
      "machine_shape": "hm",
      "include_colab_link": true
    },
    "kernelspec": {
      "name": "python3",
      "display_name": "Python 3"
    },
    "accelerator": "GPU"
  },
  "cells": [
    {
      "cell_type": "markdown",
      "metadata": {
        "id": "view-in-github",
        "colab_type": "text"
      },
      "source": [
        "<a href=\"https://colab.research.google.com/github/Rnhondova/CORL/blob/main/Attention.ipynb\" target=\"_parent\"><img src=\"https://colab.research.google.com/assets/colab-badge.svg\" alt=\"Open In Colab\"/></a>"
      ]
    },
    {
      "cell_type": "code",
      "metadata": {
        "id": "qHWBoJA3KA53",
        "colab": {
          "base_uri": "https://localhost:8080/"
        },
        "outputId": "7138096f-c70b-40da-e4ce-0e2a7144a38a"
      },
      "source": [
        "# This ensures that a gpu is being used by the current google colab session.\n",
        "\n",
        "gpu_info = !nvidia-smi\n",
        "gpu_info = '\\n'.join(gpu_info)\n",
        "if gpu_info.find('failed') >= 0:\n",
        "  print('Select the Runtime > \"Change runtime type\" menu to enable a GPU accelerator, ')\n",
        "  print('and then re-execute this cell.')\n",
        "else:\n",
        "  print(gpu_info)"
      ],
      "execution_count": 1,
      "outputs": [
        {
          "output_type": "stream",
          "text": [
            "Sun Mar 28 14:01:01 2021       \n",
            "+-----------------------------------------------------------------------------+\n",
            "| NVIDIA-SMI 460.56       Driver Version: 460.32.03    CUDA Version: 11.2     |\n",
            "|-------------------------------+----------------------+----------------------+\n",
            "| GPU  Name        Persistence-M| Bus-Id        Disp.A | Volatile Uncorr. ECC |\n",
            "| Fan  Temp  Perf  Pwr:Usage/Cap|         Memory-Usage | GPU-Util  Compute M. |\n",
            "|                               |                      |               MIG M. |\n",
            "|===============================+======================+======================|\n",
            "|   0  Tesla P100-PCIE...  Off  | 00000000:00:04.0 Off |                    0 |\n",
            "| N/A   34C    P0    26W / 250W |      0MiB / 16280MiB |      0%      Default |\n",
            "|                               |                      |                  N/A |\n",
            "+-------------------------------+----------------------+----------------------+\n",
            "                                                                               \n",
            "+-----------------------------------------------------------------------------+\n",
            "| Processes:                                                                  |\n",
            "|  GPU   GI   CI        PID   Type   Process name                  GPU Memory |\n",
            "|        ID   ID                                                   Usage      |\n",
            "|=============================================================================|\n",
            "|  No running processes found                                                 |\n",
            "+-----------------------------------------------------------------------------+\n"
          ],
          "name": "stdout"
        }
      ]
    },
    {
      "cell_type": "code",
      "metadata": {
        "colab": {
          "base_uri": "https://localhost:8080/"
        },
        "id": "ycwxgcUMAWQQ",
        "outputId": "a2f63196-108f-4d94-b235-97af6cd1d4b3"
      },
      "source": [
        "from google.colab import drive\n",
        "drive.mount('/content/drive')"
      ],
      "execution_count": 2,
      "outputs": [
        {
          "output_type": "stream",
          "text": [
            "Mounted at /content/drive\n"
          ],
          "name": "stdout"
        }
      ]
    },
    {
      "cell_type": "code",
      "metadata": {
        "id": "zLd2Yfk653Gu",
        "colab": {
          "base_uri": "https://localhost:8080/"
        },
        "outputId": "f76d9183-0615-449f-bf09-168fca6f709a"
      },
      "source": [
        "# This code block is used to access your google drive\n",
        "\n",
        "from google.colab import drive\n",
        "ROOT = \"/content/drive\"\n",
        "drive.mount(ROOT)"
      ],
      "execution_count": null,
      "outputs": [
        {
          "output_type": "stream",
          "text": [
            "Drive already mounted at /content/drive; to attempt to forcibly remount, call drive.mount(\"/content/drive\", force_remount=True).\n"
          ],
          "name": "stdout"
        }
      ]
    },
    {
      "cell_type": "code",
      "metadata": {
        "colab": {
          "base_uri": "https://localhost:8080/"
        },
        "id": "xO6Ir-cHwqnv",
        "outputId": "08cf2f84-cc3e-4c32-b253-c6e20d8b37a6"
      },
      "source": [
        "!git clone https://github.com/Rnhondova/garage.git"
      ],
      "execution_count": 2,
      "outputs": [
        {
          "output_type": "stream",
          "text": [
            "Cloning into 'garage'...\n",
            "remote: Enumerating objects: 10, done.\u001b[K\n",
            "remote: Counting objects: 100% (10/10), done.\u001b[K\n",
            "remote: Compressing objects: 100% (9/9), done.\u001b[K\n",
            "remote: Total 25268 (delta 2), reused 8 (delta 1), pack-reused 25258\u001b[K\n",
            "Receiving objects: 100% (25268/25268), 58.59 MiB | 25.09 MiB/s, done.\n",
            "Resolving deltas: 100% (18785/18785), done.\n"
          ],
          "name": "stdout"
        }
      ]
    },
    {
      "cell_type": "code",
      "metadata": {
        "colab": {
          "base_uri": "https://localhost:8080/"
        },
        "id": "FPW7QCr8IK6v",
        "outputId": "56c8780d-bdad-410c-c380-ef28e2db75a5"
      },
      "source": [
        "%cd garage/"
      ],
      "execution_count": 3,
      "outputs": [
        {
          "output_type": "stream",
          "text": [
            "/content/garage\n"
          ],
          "name": "stdout"
        }
      ]
    },
    {
      "cell_type": "code",
      "metadata": {
        "colab": {
          "base_uri": "https://localhost:8080/"
        },
        "id": "JFov2CnGyviD",
        "outputId": "f22dd8b9-372d-43a2-eefe-197553fbdf8e"
      },
      "source": [
        "!git submodule update --init --recursive"
      ],
      "execution_count": 4,
      "outputs": [
        {
          "output_type": "stream",
          "text": [
            "Submodule 'src/attention-learn-to-route' (https://github.com/Rnhondova/attention-learn-to-route.git) registered for path 'src/attention-learn-to-route'\n",
            "Cloning into '/content/garage/src/attention-learn-to-route'...\n",
            "Submodule path 'src/attention-learn-to-route': checked out 'e3f64a500d1a9de4f8dcf02fd1658172c4fd5be1'\n"
          ],
          "name": "stdout"
        }
      ]
    },
    {
      "cell_type": "code",
      "metadata": {
        "colab": {
          "base_uri": "https://localhost:8080/"
        },
        "id": "WnXWqHp0w-y3",
        "outputId": "80c42cea-033b-4a1a-818c-013dc17b5575"
      },
      "source": [
        "#%cd garage/src/garage/torch/algos/attention-learn-to-route/\n",
        "%cd src/attention-learn-to-route/"
      ],
      "execution_count": 5,
      "outputs": [
        {
          "output_type": "stream",
          "text": [
            "/content/garage/src/attention-learn-to-route\n"
          ],
          "name": "stdout"
        }
      ]
    },
    {
      "cell_type": "code",
      "metadata": {
        "colab": {
          "base_uri": "https://localhost:8080/"
        },
        "id": "OTNHf8woxkr9",
        "outputId": "7d740f59-d274-44e4-873b-5e54f8cc9242"
      },
      "source": [
        "!ls"
      ],
      "execution_count": 6,
      "outputs": [
        {
          "output_type": "stream",
          "text": [
            " Attention.ipynb\t   nets\t\t\t    run.py\n",
            " environment.yml\t   options.py\t\t    simple_tsp.ipynb\n",
            " eval.py\t\t   plot_vrp.ipynb\t   'train copy.py'\n",
            " garage_requirements.txt   pretrained\t\t    train_copy.py\n",
            " generate_data.py\t   problems\t\t    train.py\n",
            " images\t\t\t   README.md\t\t    TRPO_Attention.py\n",
            " LICENSE\t\t   reinforce_baselines.py   utils\n"
          ],
          "name": "stdout"
        }
      ]
    },
    {
      "cell_type": "code",
      "metadata": {
        "colab": {
          "base_uri": "https://localhost:8080/"
        },
        "id": "mqFZroDoBh7T",
        "outputId": "651ff952-7d9d-46e2-e4b3-2b895a957202"
      },
      "source": [
        "!pip install --upgrade pip\n",
        "!pip install -r garage_requirements.txt"
      ],
      "execution_count": 7,
      "outputs": [
        {
          "output_type": "stream",
          "text": [
            "Collecting pip\n",
            "\u001b[?25l  Downloading https://files.pythonhosted.org/packages/fe/ef/60d7ba03b5c442309ef42e7d69959f73aacccd0d86008362a681c4698e83/pip-21.0.1-py3-none-any.whl (1.5MB)\n",
            "\r\u001b[K     |▏                               | 10kB 25.5MB/s eta 0:00:01\r\u001b[K     |▍                               | 20kB 10.6MB/s eta 0:00:01\r\u001b[K     |▋                               | 30kB 8.4MB/s eta 0:00:01\r\u001b[K     |▉                               | 40kB 7.6MB/s eta 0:00:01\r\u001b[K     |█                               | 51kB 4.3MB/s eta 0:00:01\r\u001b[K     |█▎                              | 61kB 4.9MB/s eta 0:00:01\r\u001b[K     |█▌                              | 71kB 5.0MB/s eta 0:00:01\r\u001b[K     |█▊                              | 81kB 5.4MB/s eta 0:00:01\r\u001b[K     |██                              | 92kB 5.2MB/s eta 0:00:01\r\u001b[K     |██▏                             | 102kB 4.3MB/s eta 0:00:01\r\u001b[K     |██▍                             | 112kB 4.3MB/s eta 0:00:01\r\u001b[K     |██▌                             | 122kB 4.3MB/s eta 0:00:01\r\u001b[K     |██▊                             | 133kB 4.3MB/s eta 0:00:01\r\u001b[K     |███                             | 143kB 4.3MB/s eta 0:00:01\r\u001b[K     |███▏                            | 153kB 4.3MB/s eta 0:00:01\r\u001b[K     |███▍                            | 163kB 4.3MB/s eta 0:00:01\r\u001b[K     |███▋                            | 174kB 4.3MB/s eta 0:00:01\r\u001b[K     |███▉                            | 184kB 4.3MB/s eta 0:00:01\r\u001b[K     |████                            | 194kB 4.3MB/s eta 0:00:01\r\u001b[K     |████▎                           | 204kB 4.3MB/s eta 0:00:01\r\u001b[K     |████▌                           | 215kB 4.3MB/s eta 0:00:01\r\u001b[K     |████▊                           | 225kB 4.3MB/s eta 0:00:01\r\u001b[K     |█████                           | 235kB 4.3MB/s eta 0:00:01\r\u001b[K     |█████                           | 245kB 4.3MB/s eta 0:00:01\r\u001b[K     |█████▎                          | 256kB 4.3MB/s eta 0:00:01\r\u001b[K     |█████▌                          | 266kB 4.3MB/s eta 0:00:01\r\u001b[K     |█████▊                          | 276kB 4.3MB/s eta 0:00:01\r\u001b[K     |██████                          | 286kB 4.3MB/s eta 0:00:01\r\u001b[K     |██████▏                         | 296kB 4.3MB/s eta 0:00:01\r\u001b[K     |██████▍                         | 307kB 4.3MB/s eta 0:00:01\r\u001b[K     |██████▋                         | 317kB 4.3MB/s eta 0:00:01\r\u001b[K     |██████▉                         | 327kB 4.3MB/s eta 0:00:01\r\u001b[K     |███████                         | 337kB 4.3MB/s eta 0:00:01\r\u001b[K     |███████▎                        | 348kB 4.3MB/s eta 0:00:01\r\u001b[K     |███████▌                        | 358kB 4.3MB/s eta 0:00:01\r\u001b[K     |███████▋                        | 368kB 4.3MB/s eta 0:00:01\r\u001b[K     |███████▉                        | 378kB 4.3MB/s eta 0:00:01\r\u001b[K     |████████                        | 389kB 4.3MB/s eta 0:00:01\r\u001b[K     |████████▎                       | 399kB 4.3MB/s eta 0:00:01\r\u001b[K     |████████▌                       | 409kB 4.3MB/s eta 0:00:01\r\u001b[K     |████████▊                       | 419kB 4.3MB/s eta 0:00:01\r\u001b[K     |█████████                       | 430kB 4.3MB/s eta 0:00:01\r\u001b[K     |█████████▏                      | 440kB 4.3MB/s eta 0:00:01\r\u001b[K     |█████████▍                      | 450kB 4.3MB/s eta 0:00:01\r\u001b[K     |█████████▋                      | 460kB 4.3MB/s eta 0:00:01\r\u001b[K     |█████████▉                      | 471kB 4.3MB/s eta 0:00:01\r\u001b[K     |██████████                      | 481kB 4.3MB/s eta 0:00:01\r\u001b[K     |██████████▏                     | 491kB 4.3MB/s eta 0:00:01\r\u001b[K     |██████████▍                     | 501kB 4.3MB/s eta 0:00:01\r\u001b[K     |██████████▋                     | 512kB 4.3MB/s eta 0:00:01\r\u001b[K     |██████████▉                     | 522kB 4.3MB/s eta 0:00:01\r\u001b[K     |███████████                     | 532kB 4.3MB/s eta 0:00:01\r\u001b[K     |███████████▎                    | 542kB 4.3MB/s eta 0:00:01\r\u001b[K     |███████████▌                    | 552kB 4.3MB/s eta 0:00:01\r\u001b[K     |███████████▊                    | 563kB 4.3MB/s eta 0:00:01\r\u001b[K     |████████████                    | 573kB 4.3MB/s eta 0:00:01\r\u001b[K     |████████████▏                   | 583kB 4.3MB/s eta 0:00:01\r\u001b[K     |████████████▍                   | 593kB 4.3MB/s eta 0:00:01\r\u001b[K     |████████████▋                   | 604kB 4.3MB/s eta 0:00:01\r\u001b[K     |████████████▊                   | 614kB 4.3MB/s eta 0:00:01\r\u001b[K     |█████████████                   | 624kB 4.3MB/s eta 0:00:01\r\u001b[K     |█████████████▏                  | 634kB 4.3MB/s eta 0:00:01\r\u001b[K     |█████████████▍                  | 645kB 4.3MB/s eta 0:00:01\r\u001b[K     |█████████████▋                  | 655kB 4.3MB/s eta 0:00:01\r\u001b[K     |█████████████▉                  | 665kB 4.3MB/s eta 0:00:01\r\u001b[K     |██████████████                  | 675kB 4.3MB/s eta 0:00:01\r\u001b[K     |██████████████▎                 | 686kB 4.3MB/s eta 0:00:01\r\u001b[K     |██████████████▌                 | 696kB 4.3MB/s eta 0:00:01\r\u001b[K     |██████████████▊                 | 706kB 4.3MB/s eta 0:00:01\r\u001b[K     |███████████████                 | 716kB 4.3MB/s eta 0:00:01\r\u001b[K     |███████████████▏                | 727kB 4.3MB/s eta 0:00:01\r\u001b[K     |███████████████▎                | 737kB 4.3MB/s eta 0:00:01\r\u001b[K     |███████████████▌                | 747kB 4.3MB/s eta 0:00:01\r\u001b[K     |███████████████▊                | 757kB 4.3MB/s eta 0:00:01\r\u001b[K     |████████████████                | 768kB 4.3MB/s eta 0:00:01\r\u001b[K     |████████████████▏               | 778kB 4.3MB/s eta 0:00:01\r\u001b[K     |████████████████▍               | 788kB 4.3MB/s eta 0:00:01\r\u001b[K     |████████████████▋               | 798kB 4.3MB/s eta 0:00:01\r\u001b[K     |████████████████▉               | 808kB 4.3MB/s eta 0:00:01\r\u001b[K     |█████████████████               | 819kB 4.3MB/s eta 0:00:01\r\u001b[K     |█████████████████▎              | 829kB 4.3MB/s eta 0:00:01\r\u001b[K     |█████████████████▌              | 839kB 4.3MB/s eta 0:00:01\r\u001b[K     |█████████████████▊              | 849kB 4.3MB/s eta 0:00:01\r\u001b[K     |█████████████████▉              | 860kB 4.3MB/s eta 0:00:01\r\u001b[K     |██████████████████              | 870kB 4.3MB/s eta 0:00:01\r\u001b[K     |██████████████████▎             | 880kB 4.3MB/s eta 0:00:01\r\u001b[K     |██████████████████▌             | 890kB 4.3MB/s eta 0:00:01\r\u001b[K     |██████████████████▊             | 901kB 4.3MB/s eta 0:00:01\r\u001b[K     |███████████████████             | 911kB 4.3MB/s eta 0:00:01\r\u001b[K     |███████████████████▏            | 921kB 4.3MB/s eta 0:00:01\r\u001b[K     |███████████████████▍            | 931kB 4.3MB/s eta 0:00:01\r\u001b[K     |███████████████████▋            | 942kB 4.3MB/s eta 0:00:01\r\u001b[K     |███████████████████▉            | 952kB 4.3MB/s eta 0:00:01\r\u001b[K     |████████████████████            | 962kB 4.3MB/s eta 0:00:01\r\u001b[K     |████████████████████▎           | 972kB 4.3MB/s eta 0:00:01\r\u001b[K     |████████████████████▍           | 983kB 4.3MB/s eta 0:00:01\r\u001b[K     |████████████████████▋           | 993kB 4.3MB/s eta 0:00:01\r\u001b[K     |████████████████████▉           | 1.0MB 4.3MB/s eta 0:00:01\r\u001b[K     |█████████████████████           | 1.0MB 4.3MB/s eta 0:00:01\r\u001b[K     |█████████████████████▎          | 1.0MB 4.3MB/s eta 0:00:01\r\u001b[K     |█████████████████████▌          | 1.0MB 4.3MB/s eta 0:00:01\r\u001b[K     |█████████████████████▊          | 1.0MB 4.3MB/s eta 0:00:01\r\u001b[K     |██████████████████████          | 1.1MB 4.3MB/s eta 0:00:01\r\u001b[K     |██████████████████████▏         | 1.1MB 4.3MB/s eta 0:00:01\r\u001b[K     |██████████████████████▍         | 1.1MB 4.3MB/s eta 0:00:01\r\u001b[K     |██████████████████████▋         | 1.1MB 4.3MB/s eta 0:00:01\r\u001b[K     |██████████████████████▉         | 1.1MB 4.3MB/s eta 0:00:01\r\u001b[K     |███████████████████████         | 1.1MB 4.3MB/s eta 0:00:01\r\u001b[K     |███████████████████████▏        | 1.1MB 4.3MB/s eta 0:00:01\r\u001b[K     |███████████████████████▍        | 1.1MB 4.3MB/s eta 0:00:01\r\u001b[K     |███████████████████████▋        | 1.1MB 4.3MB/s eta 0:00:01\r\u001b[K     |███████████████████████▉        | 1.1MB 4.3MB/s eta 0:00:01\r\u001b[K     |████████████████████████        | 1.2MB 4.3MB/s eta 0:00:01\r\u001b[K     |████████████████████████▎       | 1.2MB 4.3MB/s eta 0:00:01\r\u001b[K     |████████████████████████▌       | 1.2MB 4.3MB/s eta 0:00:01\r\u001b[K     |████████████████████████▊       | 1.2MB 4.3MB/s eta 0:00:01\r\u001b[K     |█████████████████████████       | 1.2MB 4.3MB/s eta 0:00:01\r\u001b[K     |█████████████████████████▏      | 1.2MB 4.3MB/s eta 0:00:01\r\u001b[K     |█████████████████████████▍      | 1.2MB 4.3MB/s eta 0:00:01\r\u001b[K     |█████████████████████████▌      | 1.2MB 4.3MB/s eta 0:00:01\r\u001b[K     |█████████████████████████▊      | 1.2MB 4.3MB/s eta 0:00:01\r\u001b[K     |██████████████████████████      | 1.2MB 4.3MB/s eta 0:00:01\r\u001b[K     |██████████████████████████▏     | 1.3MB 4.3MB/s eta 0:00:01\r\u001b[K     |██████████████████████████▍     | 1.3MB 4.3MB/s eta 0:00:01\r\u001b[K     |██████████████████████████▋     | 1.3MB 4.3MB/s eta 0:00:01\r\u001b[K     |██████████████████████████▉     | 1.3MB 4.3MB/s eta 0:00:01\r\u001b[K     |███████████████████████████     | 1.3MB 4.3MB/s eta 0:00:01\r\u001b[K     |███████████████████████████▎    | 1.3MB 4.3MB/s eta 0:00:01\r\u001b[K     |███████████████████████████▌    | 1.3MB 4.3MB/s eta 0:00:01\r\u001b[K     |███████████████████████████▊    | 1.3MB 4.3MB/s eta 0:00:01\r\u001b[K     |███████████████████████████▉    | 1.3MB 4.3MB/s eta 0:00:01\r\u001b[K     |████████████████████████████    | 1.4MB 4.3MB/s eta 0:00:01\r\u001b[K     |████████████████████████████▎   | 1.4MB 4.3MB/s eta 0:00:01\r\u001b[K     |████████████████████████████▌   | 1.4MB 4.3MB/s eta 0:00:01\r\u001b[K     |████████████████████████████▊   | 1.4MB 4.3MB/s eta 0:00:01\r\u001b[K     |█████████████████████████████   | 1.4MB 4.3MB/s eta 0:00:01\r\u001b[K     |█████████████████████████████▏  | 1.4MB 4.3MB/s eta 0:00:01\r\u001b[K     |█████████████████████████████▍  | 1.4MB 4.3MB/s eta 0:00:01\r\u001b[K     |█████████████████████████████▋  | 1.4MB 4.3MB/s eta 0:00:01\r\u001b[K     |█████████████████████████████▉  | 1.4MB 4.3MB/s eta 0:00:01\r\u001b[K     |██████████████████████████████  | 1.4MB 4.3MB/s eta 0:00:01\r\u001b[K     |██████████████████████████████▎ | 1.5MB 4.3MB/s eta 0:00:01\r\u001b[K     |██████████████████████████████▍ | 1.5MB 4.3MB/s eta 0:00:01\r\u001b[K     |██████████████████████████████▋ | 1.5MB 4.3MB/s eta 0:00:01\r\u001b[K     |██████████████████████████████▉ | 1.5MB 4.3MB/s eta 0:00:01\r\u001b[K     |███████████████████████████████ | 1.5MB 4.3MB/s eta 0:00:01\r\u001b[K     |███████████████████████████████▎| 1.5MB 4.3MB/s eta 0:00:01\r\u001b[K     |███████████████████████████████▌| 1.5MB 4.3MB/s eta 0:00:01\r\u001b[K     |███████████████████████████████▊| 1.5MB 4.3MB/s eta 0:00:01\r\u001b[K     |████████████████████████████████| 1.5MB 4.3MB/s eta 0:00:01\r\u001b[K     |████████████████████████████████| 1.5MB 4.3MB/s \n",
            "\u001b[?25hInstalling collected packages: pip\n",
            "  Found existing installation: pip 19.3.1\n",
            "    Uninstalling pip-19.3.1:\n",
            "      Successfully uninstalled pip-19.3.1\n",
            "Successfully installed pip-21.0.1\n",
            "Collecting akro\n",
            "  Downloading akro-0.0.8.tar.gz (17 kB)\n",
            "Requirement already satisfied: click>=2.0 in /usr/local/lib/python3.7/dist-packages (from -r garage_requirements.txt (line 2)) (7.1.2)\n",
            "Requirement already satisfied: cloudpickle in /usr/local/lib/python3.7/dist-packages (from -r garage_requirements.txt (line 3)) (1.3.0)\n",
            "Collecting cma==2.7.0\n",
            "  Downloading cma-2.7.0-py2.py3-none-any.whl (239 kB)\n",
            "\u001b[K     |████████████████████████████████| 239 kB 5.8 MB/s \n",
            "\u001b[?25hCollecting dowel==0.0.3\n",
            "  Downloading dowel-0.0.3.tar.gz (22 kB)\n",
            "Requirement already satisfied: numpy>=1.14.5 in /usr/local/lib/python3.7/dist-packages (from -r garage_requirements.txt (line 6)) (1.19.5)\n",
            "Requirement already satisfied: psutil in /usr/local/lib/python3.7/dist-packages (from -r garage_requirements.txt (line 7)) (5.4.8)\n",
            "Requirement already satisfied: python-dateutil in /usr/local/lib/python3.7/dist-packages (from -r garage_requirements.txt (line 8)) (2.8.1)\n",
            "Collecting ray\n",
            "  Downloading ray-1.2.0-cp37-cp37m-manylinux2014_x86_64.whl (47.5 MB)\n",
            "\u001b[K     |████████████████████████████████| 47.5 MB 74 kB/s \n",
            "\u001b[?25hRequirement already satisfied: scikit-image in /usr/local/lib/python3.7/dist-packages (from -r garage_requirements.txt (line 10)) (0.16.2)\n",
            "Requirement already satisfied: scipy in /usr/local/lib/python3.7/dist-packages (from -r garage_requirements.txt (line 11)) (1.4.1)\n",
            "Collecting setproctitle>=1.0\n",
            "  Downloading setproctitle-1.2.2-cp37-cp37m-manylinux1_x86_64.whl (36 kB)\n",
            "Requirement already satisfied: tensorflow>=1.14 in /usr/local/lib/python3.7/dist-packages (from -r garage_requirements.txt (line 13)) (2.4.1)\n",
            "Requirement already satisfied: tensorflow-probability>=0.11.0 in /usr/local/lib/python3.7/dist-packages (from -r garage_requirements.txt (line 14)) (0.12.1)\n",
            "Requirement already satisfied: torch!=1.5.0,>=1.0.0 in /usr/local/lib/python3.7/dist-packages (from -r garage_requirements.txt (line 15)) (1.8.0+cu101)\n",
            "Requirement already satisfied: torchvision>=0.2.1 in /usr/local/lib/python3.7/dist-packages (from -r garage_requirements.txt (line 16)) (0.9.0+cu101)\n",
            "Requirement already satisfied: matplotlib in /usr/local/lib/python3.7/dist-packages (from dowel==0.0.3->-r garage_requirements.txt (line 5)) (3.2.2)\n",
            "Requirement already satisfied: tabulate in /usr/local/lib/python3.7/dist-packages (from dowel==0.0.3->-r garage_requirements.txt (line 5)) (0.8.9)\n",
            "Collecting tensorboardX\n",
            "  Downloading tensorboardX-2.1-py2.py3-none-any.whl (308 kB)\n",
            "\u001b[K     |████████████████████████████████| 308 kB 72.6 MB/s \n",
            "\u001b[?25hRequirement already satisfied: wheel~=0.35 in /usr/local/lib/python3.7/dist-packages (from tensorflow>=1.14->-r garage_requirements.txt (line 13)) (0.36.2)\n",
            "Requirement already satisfied: h5py~=2.10.0 in /usr/local/lib/python3.7/dist-packages (from tensorflow>=1.14->-r garage_requirements.txt (line 13)) (2.10.0)\n",
            "Requirement already satisfied: typing-extensions~=3.7.4 in /usr/local/lib/python3.7/dist-packages (from tensorflow>=1.14->-r garage_requirements.txt (line 13)) (3.7.4.3)\n",
            "Requirement already satisfied: wrapt~=1.12.1 in /usr/local/lib/python3.7/dist-packages (from tensorflow>=1.14->-r garage_requirements.txt (line 13)) (1.12.1)\n",
            "Requirement already satisfied: flatbuffers~=1.12.0 in /usr/local/lib/python3.7/dist-packages (from tensorflow>=1.14->-r garage_requirements.txt (line 13)) (1.12)\n",
            "Requirement already satisfied: absl-py~=0.10 in /usr/local/lib/python3.7/dist-packages (from tensorflow>=1.14->-r garage_requirements.txt (line 13)) (0.10.0)\n",
            "Requirement already satisfied: protobuf>=3.9.2 in /usr/local/lib/python3.7/dist-packages (from tensorflow>=1.14->-r garage_requirements.txt (line 13)) (3.12.4)\n",
            "Requirement already satisfied: termcolor~=1.1.0 in /usr/local/lib/python3.7/dist-packages (from tensorflow>=1.14->-r garage_requirements.txt (line 13)) (1.1.0)\n",
            "Requirement already satisfied: tensorflow-estimator<2.5.0,>=2.4.0 in /usr/local/lib/python3.7/dist-packages (from tensorflow>=1.14->-r garage_requirements.txt (line 13)) (2.4.0)\n",
            "Requirement already satisfied: google-pasta~=0.2 in /usr/local/lib/python3.7/dist-packages (from tensorflow>=1.14->-r garage_requirements.txt (line 13)) (0.2.0)\n",
            "Requirement already satisfied: grpcio~=1.32.0 in /usr/local/lib/python3.7/dist-packages (from tensorflow>=1.14->-r garage_requirements.txt (line 13)) (1.32.0)\n",
            "Requirement already satisfied: gast==0.3.3 in /usr/local/lib/python3.7/dist-packages (from tensorflow>=1.14->-r garage_requirements.txt (line 13)) (0.3.3)\n",
            "Requirement already satisfied: opt-einsum~=3.3.0 in /usr/local/lib/python3.7/dist-packages (from tensorflow>=1.14->-r garage_requirements.txt (line 13)) (3.3.0)\n",
            "Requirement already satisfied: six~=1.15.0 in /usr/local/lib/python3.7/dist-packages (from tensorflow>=1.14->-r garage_requirements.txt (line 13)) (1.15.0)\n",
            "Requirement already satisfied: keras-preprocessing~=1.1.2 in /usr/local/lib/python3.7/dist-packages (from tensorflow>=1.14->-r garage_requirements.txt (line 13)) (1.1.2)\n",
            "Requirement already satisfied: tensorboard~=2.4 in /usr/local/lib/python3.7/dist-packages (from tensorflow>=1.14->-r garage_requirements.txt (line 13)) (2.4.1)\n",
            "Requirement already satisfied: astunparse~=1.6.3 in /usr/local/lib/python3.7/dist-packages (from tensorflow>=1.14->-r garage_requirements.txt (line 13)) (1.6.3)\n",
            "Requirement already satisfied: dm-tree in /usr/local/lib/python3.7/dist-packages (from tensorflow-probability>=0.11.0->-r garage_requirements.txt (line 14)) (0.1.5)\n",
            "Requirement already satisfied: decorator in /usr/local/lib/python3.7/dist-packages (from tensorflow-probability>=0.11.0->-r garage_requirements.txt (line 14)) (4.4.2)\n",
            "Requirement already satisfied: pillow>=4.1.1 in /usr/local/lib/python3.7/dist-packages (from torchvision>=0.2.1->-r garage_requirements.txt (line 16)) (7.0.0)\n",
            "Requirement already satisfied: setuptools in /usr/local/lib/python3.7/dist-packages (from protobuf>=3.9.2->tensorflow>=1.14->-r garage_requirements.txt (line 13)) (54.1.2)\n",
            "Requirement already satisfied: google-auth<2,>=1.6.3 in /usr/local/lib/python3.7/dist-packages (from tensorboard~=2.4->tensorflow>=1.14->-r garage_requirements.txt (line 13)) (1.27.1)\n",
            "Requirement already satisfied: werkzeug>=0.11.15 in /usr/local/lib/python3.7/dist-packages (from tensorboard~=2.4->tensorflow>=1.14->-r garage_requirements.txt (line 13)) (1.0.1)\n",
            "Requirement already satisfied: requests<3,>=2.21.0 in /usr/local/lib/python3.7/dist-packages (from tensorboard~=2.4->tensorflow>=1.14->-r garage_requirements.txt (line 13)) (2.23.0)\n",
            "Requirement already satisfied: tensorboard-plugin-wit>=1.6.0 in /usr/local/lib/python3.7/dist-packages (from tensorboard~=2.4->tensorflow>=1.14->-r garage_requirements.txt (line 13)) (1.8.0)\n",
            "Requirement already satisfied: google-auth-oauthlib<0.5,>=0.4.1 in /usr/local/lib/python3.7/dist-packages (from tensorboard~=2.4->tensorflow>=1.14->-r garage_requirements.txt (line 13)) (0.4.3)\n",
            "Requirement already satisfied: markdown>=2.6.8 in /usr/local/lib/python3.7/dist-packages (from tensorboard~=2.4->tensorflow>=1.14->-r garage_requirements.txt (line 13)) (3.3.4)\n",
            "Requirement already satisfied: pyasn1-modules>=0.2.1 in /usr/local/lib/python3.7/dist-packages (from google-auth<2,>=1.6.3->tensorboard~=2.4->tensorflow>=1.14->-r garage_requirements.txt (line 13)) (0.2.8)\n",
            "Requirement already satisfied: cachetools<5.0,>=2.0.0 in /usr/local/lib/python3.7/dist-packages (from google-auth<2,>=1.6.3->tensorboard~=2.4->tensorflow>=1.14->-r garage_requirements.txt (line 13)) (4.2.1)\n",
            "Requirement already satisfied: rsa<5,>=3.1.4 in /usr/local/lib/python3.7/dist-packages (from google-auth<2,>=1.6.3->tensorboard~=2.4->tensorflow>=1.14->-r garage_requirements.txt (line 13)) (4.7.2)\n",
            "Requirement already satisfied: requests-oauthlib>=0.7.0 in /usr/local/lib/python3.7/dist-packages (from google-auth-oauthlib<0.5,>=0.4.1->tensorboard~=2.4->tensorflow>=1.14->-r garage_requirements.txt (line 13)) (1.3.0)\n",
            "Requirement already satisfied: importlib-metadata in /usr/local/lib/python3.7/dist-packages (from markdown>=2.6.8->tensorboard~=2.4->tensorflow>=1.14->-r garage_requirements.txt (line 13)) (3.7.2)\n",
            "Requirement already satisfied: pyasn1<0.5.0,>=0.4.6 in /usr/local/lib/python3.7/dist-packages (from pyasn1-modules>=0.2.1->google-auth<2,>=1.6.3->tensorboard~=2.4->tensorflow>=1.14->-r garage_requirements.txt (line 13)) (0.4.8)\n",
            "Requirement already satisfied: certifi>=2017.4.17 in /usr/local/lib/python3.7/dist-packages (from requests<3,>=2.21.0->tensorboard~=2.4->tensorflow>=1.14->-r garage_requirements.txt (line 13)) (2020.12.5)\n",
            "Requirement already satisfied: chardet<4,>=3.0.2 in /usr/local/lib/python3.7/dist-packages (from requests<3,>=2.21.0->tensorboard~=2.4->tensorflow>=1.14->-r garage_requirements.txt (line 13)) (3.0.4)\n",
            "Requirement already satisfied: idna<3,>=2.5 in /usr/local/lib/python3.7/dist-packages (from requests<3,>=2.21.0->tensorboard~=2.4->tensorflow>=1.14->-r garage_requirements.txt (line 13)) (2.10)\n",
            "Requirement already satisfied: urllib3!=1.25.0,!=1.25.1,<1.26,>=1.21.1 in /usr/local/lib/python3.7/dist-packages (from requests<3,>=2.21.0->tensorboard~=2.4->tensorflow>=1.14->-r garage_requirements.txt (line 13)) (1.24.3)\n",
            "Requirement already satisfied: oauthlib>=3.0.0 in /usr/local/lib/python3.7/dist-packages (from requests-oauthlib>=0.7.0->google-auth-oauthlib<0.5,>=0.4.1->tensorboard~=2.4->tensorflow>=1.14->-r garage_requirements.txt (line 13)) (3.1.0)\n",
            "Requirement already satisfied: gym>=0.12.4 in /usr/local/lib/python3.7/dist-packages (from akro->-r garage_requirements.txt (line 1)) (0.17.3)\n",
            "Requirement already satisfied: pyglet<=1.5.0,>=1.4.0 in /usr/local/lib/python3.7/dist-packages (from gym>=0.12.4->akro->-r garage_requirements.txt (line 1)) (1.5.0)\n",
            "Requirement already satisfied: future in /usr/local/lib/python3.7/dist-packages (from pyglet<=1.5.0,>=1.4.0->gym>=0.12.4->akro->-r garage_requirements.txt (line 1)) (0.16.0)\n",
            "Collecting colorful\n",
            "  Downloading colorful-0.5.4-py2.py3-none-any.whl (201 kB)\n",
            "\u001b[K     |████████████████████████████████| 201 kB 72.7 MB/s \n",
            "\u001b[?25hRequirement already satisfied: filelock in /usr/local/lib/python3.7/dist-packages (from ray->-r garage_requirements.txt (line 9)) (3.0.12)\n",
            "Requirement already satisfied: msgpack<2.0.0,>=1.0.0 in /usr/local/lib/python3.7/dist-packages (from ray->-r garage_requirements.txt (line 9)) (1.0.2)\n",
            "Requirement already satisfied: jsonschema in /usr/local/lib/python3.7/dist-packages (from ray->-r garage_requirements.txt (line 9)) (2.6.0)\n",
            "Requirement already satisfied: prometheus-client>=0.7.1 in /usr/local/lib/python3.7/dist-packages (from ray->-r garage_requirements.txt (line 9)) (0.9.0)\n",
            "Collecting py-spy>=0.2.0\n",
            "  Downloading py_spy-0.3.5-py2.py3-none-manylinux1_x86_64.whl (3.1 MB)\n",
            "\u001b[K     |████████████████████████████████| 3.1 MB 63.4 MB/s \n",
            "\u001b[?25hRequirement already satisfied: pyyaml in /usr/local/lib/python3.7/dist-packages (from ray->-r garage_requirements.txt (line 9)) (3.13)\n",
            "Collecting aiohttp-cors\n",
            "  Downloading aiohttp_cors-0.7.0-py3-none-any.whl (27 kB)\n",
            "Collecting opencensus\n",
            "  Downloading opencensus-0.7.12-py2.py3-none-any.whl (127 kB)\n",
            "\u001b[K     |████████████████████████████████| 127 kB 74.0 MB/s \n",
            "\u001b[?25hCollecting aioredis\n",
            "  Downloading aioredis-1.3.1-py3-none-any.whl (65 kB)\n",
            "\u001b[K     |████████████████████████████████| 65 kB 4.2 MB/s \n",
            "\u001b[?25hCollecting gpustat\n",
            "  Downloading gpustat-0.6.0.tar.gz (78 kB)\n",
            "\u001b[K     |████████████████████████████████| 78 kB 8.1 MB/s \n",
            "\u001b[?25hCollecting aiohttp\n",
            "  Downloading aiohttp-3.7.4.post0-cp37-cp37m-manylinux2014_x86_64.whl (1.3 MB)\n",
            "\u001b[K     |████████████████████████████████| 1.3 MB 96.0 MB/s \n",
            "\u001b[?25hCollecting colorama\n",
            "  Downloading colorama-0.4.4-py2.py3-none-any.whl (16 kB)\n",
            "Collecting redis>=3.5.0\n",
            "  Downloading redis-3.5.3-py2.py3-none-any.whl (72 kB)\n",
            "\u001b[K     |████████████████████████████████| 72 kB 603 kB/s \n",
            "\u001b[?25hRequirement already satisfied: imageio>=2.3.0 in /usr/local/lib/python3.7/dist-packages (from scikit-image->-r garage_requirements.txt (line 10)) (2.4.1)\n",
            "Requirement already satisfied: PyWavelets>=0.4.0 in /usr/local/lib/python3.7/dist-packages (from scikit-image->-r garage_requirements.txt (line 10)) (1.1.1)\n",
            "Requirement already satisfied: networkx>=2.0 in /usr/local/lib/python3.7/dist-packages (from scikit-image->-r garage_requirements.txt (line 10)) (2.5)\n",
            "Requirement already satisfied: cycler>=0.10 in /usr/local/lib/python3.7/dist-packages (from matplotlib->dowel==0.0.3->-r garage_requirements.txt (line 5)) (0.10.0)\n",
            "Requirement already satisfied: kiwisolver>=1.0.1 in /usr/local/lib/python3.7/dist-packages (from matplotlib->dowel==0.0.3->-r garage_requirements.txt (line 5)) (1.3.1)\n",
            "Requirement already satisfied: pyparsing!=2.0.4,!=2.1.2,!=2.1.6,>=2.0.1 in /usr/local/lib/python3.7/dist-packages (from matplotlib->dowel==0.0.3->-r garage_requirements.txt (line 5)) (2.4.7)\n",
            "Collecting async-timeout<4.0,>=3.0\n",
            "  Downloading async_timeout-3.0.1-py3-none-any.whl (8.2 kB)\n",
            "Collecting yarl<2.0,>=1.0\n",
            "  Downloading yarl-1.6.3-cp37-cp37m-manylinux2014_x86_64.whl (294 kB)\n",
            "\u001b[K     |████████████████████████████████| 294 kB 88.4 MB/s \n",
            "\u001b[?25hCollecting multidict<7.0,>=4.5\n",
            "  Downloading multidict-5.1.0-cp37-cp37m-manylinux2014_x86_64.whl (142 kB)\n",
            "\u001b[K     |████████████████████████████████| 142 kB 72.1 MB/s \n",
            "\u001b[?25hRequirement already satisfied: attrs>=17.3.0 in /usr/local/lib/python3.7/dist-packages (from aiohttp->ray->-r garage_requirements.txt (line 9)) (20.3.0)\n",
            "Collecting hiredis\n",
            "  Downloading hiredis-1.1.0-cp37-cp37m-manylinux2010_x86_64.whl (62 kB)\n",
            "\u001b[K     |████████████████████████████████| 62 kB 945 kB/s \n",
            "\u001b[?25hRequirement already satisfied: nvidia-ml-py3>=7.352.0 in /usr/local/lib/python3.7/dist-packages (from gpustat->ray->-r garage_requirements.txt (line 9)) (7.352.0)\n",
            "Collecting blessings>=1.6\n",
            "  Downloading blessings-1.7-py3-none-any.whl (18 kB)\n",
            "Requirement already satisfied: zipp>=0.5 in /usr/local/lib/python3.7/dist-packages (from importlib-metadata->markdown>=2.6.8->tensorboard~=2.4->tensorflow>=1.14->-r garage_requirements.txt (line 13)) (3.4.1)\n",
            "Requirement already satisfied: google-api-core<2.0.0,>=1.0.0 in /usr/local/lib/python3.7/dist-packages (from opencensus->ray->-r garage_requirements.txt (line 9)) (1.26.1)\n",
            "Collecting opencensus-context==0.1.2\n",
            "  Downloading opencensus_context-0.1.2-py2.py3-none-any.whl (4.4 kB)\n",
            "Requirement already satisfied: pytz in /usr/local/lib/python3.7/dist-packages (from google-api-core<2.0.0,>=1.0.0->opencensus->ray->-r garage_requirements.txt (line 9)) (2018.9)\n",
            "Requirement already satisfied: googleapis-common-protos<2.0dev,>=1.6.0 in /usr/local/lib/python3.7/dist-packages (from google-api-core<2.0.0,>=1.0.0->opencensus->ray->-r garage_requirements.txt (line 9)) (1.53.0)\n",
            "Requirement already satisfied: packaging>=14.3 in /usr/local/lib/python3.7/dist-packages (from google-api-core<2.0.0,>=1.0.0->opencensus->ray->-r garage_requirements.txt (line 9)) (20.9)\n",
            "Building wheels for collected packages: dowel, akro, gpustat\n",
            "  Building wheel for dowel (setup.py) ... \u001b[?25l\u001b[?25hdone\n",
            "  Created wheel for dowel: filename=dowel-0.0.3-py3-none-any.whl size=13012 sha256=7417fc1dbc892a0f3176f43d29838d10d690eaab720b88bcf64c663ce24c249a\n",
            "  Stored in directory: /root/.cache/pip/wheels/49/06/28/72e80c0c8be293503952b3a3fbd0902d00a615229b372b2451\n",
            "  Building wheel for akro (setup.py) ... \u001b[?25l\u001b[?25hdone\n",
            "  Created wheel for akro: filename=akro-0.0.8-py3-none-any.whl size=11136 sha256=b2b40c7cce2cdbe712bc599d2c2b507befb9e70744f3c8a1518657532999da08\n",
            "  Stored in directory: /root/.cache/pip/wheels/fa/8b/e3/91fe8a152629ca652b971172afb5600aa666f34cfd64968f68\n",
            "  Building wheel for gpustat (setup.py) ... \u001b[?25l\u001b[?25hdone\n",
            "  Created wheel for gpustat: filename=gpustat-0.6.0-py3-none-any.whl size=12617 sha256=4e671dd4902db5082286f766a512b1c1fa8d1f2cd61cc17e1f363a5b701d501d\n",
            "  Stored in directory: /root/.cache/pip/wheels/e6/67/af/f1ad15974b8fd95f59a63dbf854483ebe5c7a46a93930798b8\n",
            "Successfully built dowel akro gpustat\n",
            "Installing collected packages: multidict, yarl, async-timeout, opencensus-context, hiredis, blessings, aiohttp, tensorboardX, redis, py-spy, opencensus, gpustat, colorful, colorama, aioredis, aiohttp-cors, setproctitle, ray, dowel, cma, akro\n",
            "Successfully installed aiohttp-3.7.4.post0 aiohttp-cors-0.7.0 aioredis-1.3.1 akro-0.0.8 async-timeout-3.0.1 blessings-1.7 cma-2.7.0 colorama-0.4.4 colorful-0.5.4 dowel-0.0.3 gpustat-0.6.0 hiredis-1.1.0 multidict-5.1.0 opencensus-0.7.12 opencensus-context-0.1.2 py-spy-0.3.5 ray-1.2.0 redis-3.5.3 setproctitle-1.2.2 tensorboardX-2.1 yarl-1.6.3\n"
          ],
          "name": "stdout"
        }
      ]
    },
    {
      "cell_type": "code",
      "metadata": {
        "colab": {
          "base_uri": "https://localhost:8080/"
        },
        "id": "dGZLM66tz6lS",
        "outputId": "426425a8-b94b-4600-d88d-0fd92040c467"
      },
      "source": [
        "!python run.py --graph_size 20 --batch_size 512 --problem cvrp --baseline rollout --run_name 'vrp100_rollout' --epoch_size 12800 --n_epochs 1"
      ],
      "execution_count": 8,
      "outputs": [
        {
          "output_type": "stream",
          "text": [
            "Traceback (most recent call last):\n",
            "  File \"run.py\", line 9, in <module>\n",
            "    from tensorboard_logger import Logger as TbLogger\n",
            "ModuleNotFoundError: No module named 'tensorboard_logger'\n"
          ],
          "name": "stdout"
        }
      ]
    },
    {
      "cell_type": "code",
      "metadata": {
        "id": "CwHxwKkL6qh3",
        "colab": {
          "base_uri": "https://localhost:8080/"
        },
        "outputId": "c6280537-3c16-4b25-8a6e-695f3c73292c"
      },
      "source": [
        "# Make sure this points to the project folder\n",
        "\n",
        "%cd drive/'My Drive'/CORL"
      ],
      "execution_count": null,
      "outputs": [
        {
          "output_type": "stream",
          "text": [
            "/content/drive/My Drive/CORL\n"
          ],
          "name": "stdout"
        }
      ]
    },
    {
      "cell_type": "code",
      "metadata": {
        "id": "ZQXpBJPg0-V1",
        "colab": {
          "base_uri": "https://localhost:8080/"
        },
        "outputId": "b9d1f5ed-e87f-410e-e8b9-eba737d090c6"
      },
      "source": [
        "%cd attention"
      ],
      "execution_count": null,
      "outputs": [
        {
          "output_type": "stream",
          "text": [
            "/content/drive/My Drive/CORL/attention\n"
          ],
          "name": "stdout"
        }
      ]
    },
    {
      "cell_type": "code",
      "metadata": {
        "id": "6pplMLCu-M8m"
      },
      "source": [
        "%%capture\n",
        "!pip install wandb --upgrade\n",
        "!pip install tensorboard_logger"
      ],
      "execution_count": 17,
      "outputs": []
    },
    {
      "cell_type": "code",
      "metadata": {
        "colab": {
          "base_uri": "https://localhost:8080/",
          "height": 102
        },
        "id": "DJVJJzi9Wrzb",
        "outputId": "af67a606-70e8-4078-84bc-3864565067db"
      },
      "source": [
        "import wandb\n",
        "\n",
        "wandb.login()"
      ],
      "execution_count": null,
      "outputs": [
        {
          "output_type": "display_data",
          "data": {
            "application/javascript": [
              "\n",
              "        window._wandbApiKey = new Promise((resolve, reject) => {\n",
              "            function loadScript(url) {\n",
              "            return new Promise(function(resolve, reject) {\n",
              "                let newScript = document.createElement(\"script\");\n",
              "                newScript.onerror = reject;\n",
              "                newScript.onload = resolve;\n",
              "                document.body.appendChild(newScript);\n",
              "                newScript.src = url;\n",
              "            });\n",
              "            }\n",
              "            loadScript(\"https://cdn.jsdelivr.net/npm/postmate/build/postmate.min.js\").then(() => {\n",
              "            const iframe = document.createElement('iframe')\n",
              "            iframe.style.cssText = \"width:0;height:0;border:none\"\n",
              "            document.body.appendChild(iframe)\n",
              "            const handshake = new Postmate({\n",
              "                container: iframe,\n",
              "                url: 'https://wandb.ai/authorize'\n",
              "            });\n",
              "            const timeout = setTimeout(() => reject(\"Couldn't auto authenticate\"), 5000)\n",
              "            handshake.then(function(child) {\n",
              "                child.on('authorize', data => {\n",
              "                    clearTimeout(timeout)\n",
              "                    resolve(data)\n",
              "                });\n",
              "            });\n",
              "            })\n",
              "        });\n",
              "    "
            ],
            "text/plain": [
              "<IPython.core.display.Javascript object>"
            ]
          },
          "metadata": {
            "tags": []
          }
        },
        {
          "output_type": "stream",
          "text": [
            "\u001b[34m\u001b[1mwandb\u001b[0m: You can find your API key in your browser here: https://wandb.ai/authorize\n"
          ],
          "name": "stderr"
        },
        {
          "output_type": "stream",
          "text": [
            "wandb: Paste an API key from your profile and hit enter: ··········\n"
          ],
          "name": "stdout"
        },
        {
          "output_type": "stream",
          "text": [
            "\u001b[34m\u001b[1mwandb\u001b[0m: Appending key for api.wandb.ai to your netrc file: /root/.netrc\n"
          ],
          "name": "stderr"
        },
        {
          "output_type": "execute_result",
          "data": {
            "text/plain": [
              "True"
            ]
          },
          "metadata": {
            "tags": []
          },
          "execution_count": 7
        }
      ]
    },
    {
      "cell_type": "code",
      "metadata": {
        "id": "3cgIK0U5M26a",
        "colab": {
          "base_uri": "https://localhost:8080/"
        },
        "outputId": "40f1ba7a-aba6-4c30-b2fb-1192a4c9a5e0"
      },
      "source": [
        "# This block will run the originial attention code with the below settings\n",
        "# The save_hrs are the checkpoint hours to save the model\n",
        "\n",
        "!python run.py --graph_size 100 --batch_size 64 --problem cvrp --baseline rollout --run_name 'vrp100_rollout' --save_hrs 5 10 --epoch_size 12800 --n_epochs 500\n",
        "\n",
        "# this is an example of how to run evolution code\n",
        "#!python vrp_evolve.py --save_dir ../models/att_evo --save_hrs 2 3 4 5 6 8 10 --sigma 0.001 --lr 0.000001 --dataset_size 12800 --epochs 500"
      ],
      "execution_count": null,
      "outputs": [
        {
          "output_type": "stream",
          "text": [
            "2021-01-26 13:50:45.455415: I tensorflow/stream_executor/platform/default/dso_loader.cc:49] Successfully opened dynamic library libcudart.so.10.1\n",
            "\u001b[34m\u001b[1mwandb\u001b[0m: Currently logged in as: \u001b[33mrnhondova\u001b[0m (use `wandb login --relogin` to force relogin)\n",
            "2021-01-26 13:50:59.439484: I tensorflow/stream_executor/platform/default/dso_loader.cc:49] Successfully opened dynamic library libcudart.so.10.1\n",
            "\u001b[34m\u001b[1mwandb\u001b[0m: Tracking run with wandb version 0.10.15\n",
            "\u001b[34m\u001b[1mwandb\u001b[0m: Syncing run \u001b[33meternal-haze-2\u001b[0m\n",
            "\u001b[34m\u001b[1mwandb\u001b[0m: ⭐️ View project at \u001b[34m\u001b[4mhttps://wandb.ai/rnhondova/pytorch-attention-model\u001b[0m\n",
            "\u001b[34m\u001b[1mwandb\u001b[0m: 🚀 View run at \u001b[34m\u001b[4mhttps://wandb.ai/rnhondova/pytorch-attention-model/runs/25jujl2f\u001b[0m\n",
            "\u001b[34m\u001b[1mwandb\u001b[0m: Run data is saved locally in /content/drive/My Drive/CORL/attention/wandb/run-20210126_135052-25jujl2f\n",
            "\u001b[34m\u001b[1mwandb\u001b[0m: Run `wandb offline` to turn off syncing.\n",
            "\n",
            "{'baseline': 'rollout',\n",
            " 'batch_size': 64,\n",
            " 'bl_alpha': 0.05,\n",
            " 'bl_warmup_epochs': 1,\n",
            " 'checkpoint_encoder': False,\n",
            " 'checkpoint_epochs': 1,\n",
            " 'data_distribution': None,\n",
            " 'embedding_dim': 128,\n",
            " 'epoch_size': 12800,\n",
            " 'epoch_start': 0,\n",
            " 'eval_batch_size': 1024,\n",
            " 'eval_only': False,\n",
            " 'exp_beta': 0.8,\n",
            " 'graph_size': 100,\n",
            " 'hidden_dim': 128,\n",
            " 'load_path': None,\n",
            " 'log_dir': 'logs',\n",
            " 'log_step': 50,\n",
            " 'lr_critic': 0.0001,\n",
            " 'lr_decay': 1.0,\n",
            " 'lr_model': 0.0001,\n",
            " 'max_grad_norm': 1.0,\n",
            " 'model': 'attention',\n",
            " 'n_encode_layers': 3,\n",
            " 'n_epochs': 500,\n",
            " 'no_cuda': False,\n",
            " 'no_progress_bar': False,\n",
            " 'no_tensorboard': False,\n",
            " 'normalization': 'batch',\n",
            " 'output_dir': 'outputs',\n",
            " 'problem': 'cvrp',\n",
            " 'resume': None,\n",
            " 'run_name': 'vrp100_rollout_20210126T135052',\n",
            " 'save_dir': 'outputs/cvrp_100/vrp100_rollout_20210126T135052',\n",
            " 'save_hrs': [5, 10],\n",
            " 'seed': 1234,\n",
            " 'shrink_size': None,\n",
            " 'tanh_clipping': 10.0,\n",
            " 'use_cuda': True,\n",
            " 'val_dataset': None,\n",
            " 'val_size': 10000}\n",
            "Evaluating baseline model on evaluation dataset\n",
            "100%|██████████| 10/10 [00:09<00:00,  1.10it/s]\n",
            "Traceback (most recent call last):\n",
            "  File \"run.py\", line 210, in <module>\n",
            "    run(config)\n",
            "  File \"run.py\", line 167, in run\n",
            "    torch.save(model, os.path.join('.', 'empty.pt'))\n",
            "  File \"/usr/local/lib/python3.6/dist-packages/torch/serialization.py\", line 372, in save\n",
            "    _save(obj, opened_zipfile, pickle_module, pickle_protocol)\n",
            "  File \"/usr/local/lib/python3.6/dist-packages/torch/serialization.py\", line 476, in _save\n",
            "    pickler.dump(obj)\n",
            "AttributeError: Can't pickle local object 'TorchGraph.hook_torch_modules.<locals>.backward_hook'\n",
            "\n",
            "\u001b[34m\u001b[1mwandb\u001b[0m: Waiting for W&B process to finish, PID 372\n",
            "\u001b[34m\u001b[1mwandb\u001b[0m: Program failed with code 1.  Press ctrl-c to abort syncing.\n",
            "\u001b[34m\u001b[1mwandb\u001b[0m:                                                                                \n",
            "\u001b[34m\u001b[1mwandb\u001b[0m: Find user logs for this run at: /content/drive/My Drive/CORL/attention/wandb/run-20210126_135052-25jujl2f/logs/debug.log\n",
            "\u001b[34m\u001b[1mwandb\u001b[0m: Find internal logs for this run at: /content/drive/My Drive/CORL/attention/wandb/run-20210126_135052-25jujl2f/logs/debug-internal.log\n",
            "\u001b[34m\u001b[1mwandb\u001b[0m: Synced 5 W&B file(s), 0 media file(s), 0 artifact file(s) and 0 other file(s)\n",
            "\u001b[34m\u001b[1mwandb\u001b[0m: \n",
            "\u001b[34m\u001b[1mwandb\u001b[0m: Synced \u001b[33meternal-haze-2\u001b[0m: \u001b[34mhttps://wandb.ai/rnhondova/pytorch-attention-model/runs/25jujl2f\u001b[0m\n"
          ],
          "name": "stdout"
        }
      ]
    },
    {
      "cell_type": "code",
      "metadata": {
        "id": "uEU7zEhHUqzV",
        "colab": {
          "base_uri": "https://localhost:8080/"
        },
        "outputId": "db68e877-7905-4546-f639-53e8a1d29f85"
      },
      "source": [
        "!git status"
      ],
      "execution_count": 23,
      "outputs": [
        {
          "output_type": "stream",
          "text": [
            "\u001b[31mHEAD detached at \u001b[mb1b1b0c\n",
            "Changes not staged for commit:\n",
            "  (use \"git add/rm <file>...\" to update what will be committed)\n",
            "  (use \"git checkout -- <file>...\" to discard changes in working directory)\n",
            "\n",
            "\t\u001b[31mmodified:   run.py\u001b[m\n",
            "\t\u001b[31mdeleted:    train copy.py\u001b[m\n",
            "\n",
            "Untracked files:\n",
            "  (use \"git add <file>...\" to include in what will be committed)\n",
            "\n",
            "\t\u001b[31mMakefile\u001b[m\n",
            "\t\u001b[31mgarage_requirements.txt\u001b[m\n",
            "\t\u001b[31mtrain_copy.py\u001b[m\n",
            "\n",
            "no changes added to commit (use \"git add\" and/or \"git commit -a\")\n"
          ],
          "name": "stdout"
        }
      ]
    },
    {
      "cell_type": "code",
      "metadata": {
        "id": "J_IWMkKGVbyp"
      },
      "source": [
        "!git add -A"
      ],
      "execution_count": 24,
      "outputs": []
    },
    {
      "cell_type": "code",
      "metadata": {
        "id": "sFZpTaAQVwLR"
      },
      "source": [
        "!git config --global user.email \"rnhondova@yahoo.com\""
      ],
      "execution_count": 27,
      "outputs": []
    },
    {
      "cell_type": "code",
      "metadata": {
        "id": "rFFHnmrXV5xd"
      },
      "source": [
        "!git config --global user.name \"Ronald Nhondova\""
      ],
      "execution_count": 28,
      "outputs": []
    },
    {
      "cell_type": "code",
      "metadata": {
        "colab": {
          "base_uri": "https://localhost:8080/"
        },
        "id": "tQhvqoQIVfQ1",
        "outputId": "c0749741-6613-4824-c1f7-2a9212483c4d"
      },
      "source": [
        "!git commit -m \"Add required files to set garage\""
      ],
      "execution_count": 29,
      "outputs": [
        {
          "output_type": "stream",
          "text": [
            "[detached HEAD 18b3b07] Add required files to set garage\n",
            " 4 files changed, 53 insertions(+), 16 deletions(-)\n",
            " create mode 100644 Makefile\n",
            " create mode 100644 garage_requirements.txt\n",
            " rename train copy.py => train_copy.py (87%)\n"
          ],
          "name": "stdout"
        }
      ]
    },
    {
      "cell_type": "code",
      "metadata": {
        "colab": {
          "base_uri": "https://localhost:8080/"
        },
        "id": "Plx8L2EGV_vk",
        "outputId": "f0644d70-a0d8-4155-b7df-063c70c00ca2"
      },
      "source": [
        "!git push origin HEAD:master"
      ],
      "execution_count": 31,
      "outputs": [
        {
          "output_type": "stream",
          "text": [
            "fatal: could not read Username for 'https://github.com': No such device or address\n"
          ],
          "name": "stdout"
        }
      ]
    }
  ]
}